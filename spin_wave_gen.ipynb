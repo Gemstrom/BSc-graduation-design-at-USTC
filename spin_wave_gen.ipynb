{
 "cells": [
  {
   "cell_type": "code",
   "execution_count": 14,
   "id": "8adc0ef4",
   "metadata": {},
   "outputs": [
    {
     "name": "stdout",
     "output_type": "stream",
     "text": [
      "1.6383040885779836 0.0 1.147152872702092   \n",
      "1.6227288984274262 0.22536905035929267 1.147152872702092   \n",
      "1.5762994714694036 0.4464529794912517 1.147152872702092   \n",
      "1.4998986073727862 0.6590481425908989 1.147152872702092   \n",
      "1.6383040885779836 0.0 1.147152872702092   \n",
      "1.6227288984274262 0.22536905035929267 1.147152872702092   \n",
      "1.5762994714694036 0.4464529794912517 1.147152872702092   \n",
      "1.4998986073727862 0.6590481425908989 1.147152872702092   \n"
     ]
    }
   ],
   "source": [
    "import numpy as np\n",
    "import math\n",
    "import io\n",
    "\n",
    "def main():\n",
    "    q=[0.138,0,1.457]\n",
    "    theta=55/180*np.pi\n",
    "    m=np.zeros((2,4,3))\n",
    "    phi0=0\n",
    "    S=2\n",
    "    f=open(\"MAGMOM.txt\",\"a\")\n",
    "    \n",
    "    for j in range(2):\n",
    "        for i in range(4):\n",
    "            r=[i,j,0]\n",
    "            #print(r)\n",
    "            phi=phi0+np.dot(q,r)\n",
    "            spin=[S*math.sin(theta)*math.cos(phi),S*math.sin(theta)*math.sin(phi),S*math.cos(theta)]\n",
    "            m[j][i]=spin\n",
    "            print(str(m[j][i][0])+\" \"+str(m[j][i][1])+\" \"+str(m[j][i][2])+\"   \")\n",
    "            f.write(str(m[j][i][0])+\" \"+str(m[j][i][1])+\" \"+str(m[j][i][2])+\"   \")\n",
    "            \n",
    "    f.close()\n",
    "\n",
    "if __name__=='__main__':\n",
    "    main()\n"
   ]
  },
  {
   "cell_type": "code",
   "execution_count": null,
   "id": "26f74941",
   "metadata": {},
   "outputs": [],
   "source": []
  }
 ],
 "metadata": {
  "kernelspec": {
   "display_name": "Python 3",
   "language": "python",
   "name": "python3"
  },
  "language_info": {
   "codemirror_mode": {
    "name": "ipython",
    "version": 3
   },
   "file_extension": ".py",
   "mimetype": "text/x-python",
   "name": "python",
   "nbconvert_exporter": "python",
   "pygments_lexer": "ipython3",
   "version": "3.8.8"
  }
 },
 "nbformat": 4,
 "nbformat_minor": 5
}
